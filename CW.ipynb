{
 "cells": [
  {
   "cell_type": "code",
   "execution_count": null,
   "metadata": {},
   "outputs": [],
   "source": [
    "# Uncomment if use Colab\n",
    "'''from google.colab import drive\n",
    "drive.mount('/content/gdrive', force_remount=True) #mount google drive\n",
    "'''"
   ]
  },
  {
   "cell_type": "code",
   "execution_count": 1,
   "metadata": {
    "id": "4d2kQ8WqNRwh",
    "slideshow": {
     "slide_type": "skip"
    }
   },
   "outputs": [],
   "source": [
    "# Nothing better to begin with than by importing some necessary dependencies. \n",
    "%matplotlib inline\n",
    "import torch\n",
    "import matplotlib.pyplot as plt\n",
    "import math\n",
    "import numpy as np\n",
    "import torch.nn as nn\n",
    "import torch\n",
    "import torch.nn as nn\n",
    "import torch.optim as optim\n",
    "import numpy as np\n",
    "import random"
   ]
  },
  {
   "cell_type": "markdown",
   "metadata": {
    "id": "2iTuBhPKNRwm",
    "slideshow": {
     "slide_type": "slide"
    }
   },
   "source": [
    "#  Coursework\n",
    "\n",
    "\n",
    "* The **goal** of the CW is similar to that of Week 2's Lab: fitting a curve to data, also known as **curve fitting**. \n",
    "* This has applications in many different disciplines that make use of AI: FinTech, Physics Modelling, or even Sports. \n",
    "* For example, we might be interested in learning the evolution (over time) of the price of a specific product in different countries. This can depend on several factors: the product itself, the country, the initial value of the product's price, etc. \n",
    "* As usual, we are interested in learning a model that finds these relationships *from the data*. \n"
   ]
  },
  {
   "cell_type": "markdown",
   "metadata": {
    "id": "ZukjW50JNRwn",
    "slideshow": {
     "slide_type": "slide"
    }
   },
   "source": [
    "### Learning a family of functions\n",
    "\n",
    "* The main difference with Week 2's Lab is that we will learn a network that does not learn a single function but a *family of functions*.\n",
    "* We will consider a family of sinusoidal functions. \n",
    "* Below you can find the code generating the data according to different random sinusoidal functions $\\{f_a\\}$. We randomly generate a set of 40 points in the x-axis in the interval $[-2, 2]$, slightly randomly shifted. Our functions will have the form of $y = f_a(x) = a * sin(x+a)$ where each $a$ will be randomly sampled for each function from interval $[-2, 2]$.  To \"draw\" a function $f_a$, we first choose some $a \\sim U(-2,2)$ and then we compute $f_a$ using the above formula for all the $x$ in the x-axis. \n"
   ]
  },
  {
   "cell_type": "code",
   "execution_count": 2,
   "metadata": {
    "id": "3lxK0rwYNRwn",
    "slideshow": {
     "slide_type": "slide"
    }
   },
   "outputs": [],
   "source": [
    "Nf = 2000 # the number of different functions f that we will generate\n",
    "Npts = 40 # the number of x values that we will use to generate each fa\n",
    "x = torch.zeros(Nf, Npts, 1)\n",
    "for k in range(Nf):\n",
    "    x[k,:,0] = torch.linspace(-2, 2, Npts)\n",
    "\n",
    "x += torch.rand_like(x)*0.1\n",
    "a = -2 + 4*torch.rand(Nf).view(-1,1).repeat(1, Npts).unsqueeze(2)"
   ]
  },
  {
   "cell_type": "markdown",
   "metadata": {
    "id": "Jq0EeX9cNRwo",
    "slideshow": {
     "slide_type": "slide"
    }
   },
   "source": [
    "## The Learning Goal\n",
    "\n",
    "* Because we are dealing with a family of functions and not just a single function, our model must be able to perform two tasks: *Function Selection* and *Regression*.\n",
    "* Function selection means that given some *additional* input (to be defined below) the model somehow must choose which function $f_a$ from the family of functions $\\{f_a\\}$ it needs to model.\n",
    "* Once the correct function is picked then the model must perform regression i.e. learn the relationship $y=f_a(x)$.\n",
    "\n"
   ]
  },
  {
   "cell_type": "markdown",
   "metadata": {
    "id": "rkJ9LSYWNRwp",
    "slideshow": {
     "slide_type": "slide"
    }
   },
   "source": [
    "\n",
    "## The Learning Objective\n",
    "\n",
    "* During training we randomly sample functions from the family of functions $\\{f_a\\}$. For each $f_a$, we are provided with the (input, output) pairs $(x_t, y_t), t=1,\\dots,N_{pts}$.\n",
    "\n",
    "* To perform *Function Selection*, a **random subset** of $(x_t, y_t), t=1,\\dots,N_{pts}$ is provided as auxiliary input to the model during *both training and testing*. These auxiliary data is called the *context data:* $(x_c, y_c), c=1,\\dots,N_c$. \n",
    "\n",
    "* Note that the total number of context points $N_c$ should be different (and randomly chosen) for every batch so that the model learns to handle different number of context points at test time. This means that the model should be able to work for e.g. $N_c=5$ but also for $N_c=12$ etc.\n",
    "\n",
    "* Our model will take the context pairs $(x_c, y_c)$ and input values $x_t$ and will produce the estimated values $\\hat{y}_t$. \n",
    "\n",
    "* During training we have access to the ground-truth values $y_t$, and thus we can compute a loss between the model's predictions $\\hat{y}_t$ and the ground-truth values $y_t$.  \n"
   ]
  },
  {
   "cell_type": "markdown",
   "metadata": {
    "id": "gAr6FPwWNRwp",
    "slideshow": {
     "slide_type": "slide"
    }
   },
   "source": [
    "## The Model\n",
    "\n",
    "* Our model will consists of 2 MLPs which must be jointly trained.\n",
    "* The first MLP is called the *Context Encoder* or Encoder. The Encoder will take as input each pair $(x_c, y_c)$ and will produce a corresponding feature representation $r_c$ of dimension $r_{dim}$.\n",
    "* A total context feature is produced by averaging over all features: $r_C= \\frac{1}{N}\\sum_c r_c$.\n",
    "* The second MLP is called the Decoder. It takes as input the $r_C$ and each input data $x_t$ and produces the model's prediction $\\hat{y}_t$. \n",
    "\n"
   ]
  },
  {
   "cell_type": "markdown",
   "metadata": {
    "id": "uKgPk6MbNRwp",
    "slideshow": {
     "slide_type": "slide"
    }
   },
   "source": [
    "![Encoder-Decoder](CW1.png)\n",
    "\n"
   ]
  },
  {
   "cell_type": "markdown",
   "metadata": {
    "id": "Dni9bGa2NRwp",
    "slideshow": {
     "slide_type": "slide"
    }
   },
   "source": [
    "## Architectures\n",
    "\n",
    "* The Encoder and the Decoder are **MLPs**. You can experiment with your own architectures. You can also choose to implement the following architectures:\n",
    "    * *Encoder*: It will map the input pair $(x_c, y_c)$ to some features of dimension $h_{dim}$ using 2 *hidden* layers. A final layer will produce the feature representation $r_c$ of dimension $r_{dim}$.\n",
    "    * *Decoder*: It will map the input pair $(r_C, x_t)$ to some features of dimension $h_{dim}$ using 2 *hidden* layers. A final layer will produce the model's prediction $\\hat{y}_t$."
   ]
  },
  {
   "cell_type": "markdown",
   "metadata": {
    "id": "e1COz3usNRwq",
    "slideshow": {
     "slide_type": "slide"
    }
   },
   "source": [
    "## Tasks\n",
    "\n",
    "* You have to implement the following:\n",
    "    1. Create the training dataset and dataloader (10%). \n",
    "    2. Create the Encoder and Decoder (20 + 20%). \n",
    "    3. Create the optimizer and the loss for your model (10%).\n",
    "    4. Write the training script that will train the model and print the training loss (30%).\n",
    "    5. Evaluate the model on some validation data. Plot some predictions. (10%). \n",
    "\n",
    "* You might want to explore the impact of the following design choices and hyperparameters:\n",
    "    1. Number of hidden layers and $h_{dim}$, and  $r_{dim}$.\n",
    "    1. Type of optimizer, batch-size and all relevant hyper-parameters from Week 5."
   ]
  },
  {
   "cell_type": "markdown",
   "metadata": {},
   "source": [
    "# Importing libraries"
   ]
  },
  {
   "cell_type": "code",
   "execution_count": 3,
   "metadata": {},
   "outputs": [],
   "source": [
    "%matplotlib inline\n",
    "import torch\n",
    "import matplotlib.pyplot as plt\n",
    "import math\n",
    "import numpy as np\n",
    "import torch.nn as nn\n",
    "import torch\n",
    "import torch.nn as nn\n",
    "import torch.optim as optim\n",
    "import numpy as np\n",
    "import random"
   ]
  },
  {
   "cell_type": "markdown",
   "metadata": {},
   "source": [
    "# Dataset Creation"
   ]
  },
  {
   "cell_type": "code",
   "execution_count": 4,
   "metadata": {},
   "outputs": [],
   "source": [
    "Nf = 2000 # the number of different functions f that we will generate\n",
    "Npts = 40 # the number of x values that we will use to generate each fa\n",
    "x = torch.zeros(Nf, Npts, 1)\n",
    "for k in range(Nf):\n",
    "    x[k,:,0] = torch.linspace(-2, 2, Npts)\n",
    "\n",
    "x += torch.rand_like(x)*0.1\n",
    "a = -2 + 4*torch.rand(Nf).view(-1,1).repeat(1, Npts).unsqueeze(2)\n",
    "\n",
    "#generating the dependent variable Y using function\n",
    "y=a*torch.sin(x+a)"
   ]
  },
  {
   "cell_type": "code",
   "execution_count": 5,
   "metadata": {},
   "outputs": [
    {
     "name": "stdout",
     "output_type": "stream",
     "text": [
      "2000\n",
      "2000\n"
     ]
    }
   ],
   "source": [
    "#getting length\n",
    "print(len(x))\n",
    "print(len(y))"
   ]
  },
  {
   "cell_type": "markdown",
   "metadata": {},
   "source": [
    "# Plotting these points"
   ]
  },
  {
   "cell_type": "code",
   "execution_count": 6,
   "metadata": {},
   "outputs": [
    {
     "data": {
      "text/plain": [
       "[<matplotlib.lines.Line2D at 0x21ada626220>]"
      ]
     },
     "execution_count": 6,
     "metadata": {},
     "output_type": "execute_result"
    },
    {
     "data": {
      "image/png": "[encoded data removed]",
      "text/plain": [
       "<Figure size 432x288 with 1 Axes>"
      ]
     },
     "metadata": {
      "needs_background": "light"
     },
     "output_type": "display_data"
    }
   ],
   "source": [
    "#plotting some points\n",
    "plt.plot(x[0,:],y[ 0,: ])\n",
    "plt.plot(x[1,:],y[1,:])\n",
    "plt.plot(x[2,:],y[2,:])\n",
    "plt.plot(x[3,:],y[3,:])\n",
    "plt.plot(x[4,:],y[4,:])\n",
    "plt.plot(x[5,:],y[5,:])"
   ]
  },
  {
   "cell_type": "markdown",
   "metadata": {},
   "source": [
    "# Reshape data"
   ]
  },
  {
   "cell_type": "code",
   "execution_count": 7,
   "metadata": {},
   "outputs": [],
   "source": [
    "#reshaping and assigning to x_train,y_train\n",
    "x_train=np.array(x,dtype=np.float32)\n",
    "x_train=x_train.reshape(-1,1)\n",
    "\n",
    "y_train=np.array(y,dtype=np.float32)\n",
    "y_train=y_train.reshape(-1,1)"
   ]
  },
  {
   "cell_type": "markdown",
   "metadata": {},
   "source": [
    "# Encoder class"
   ]
  },
  {
   "cell_type": "code",
   "execution_count": 8,
   "metadata": {},
   "outputs": [],
   "source": [
    "# Encoder Class\n",
    "class Encoder(nn.Module):\n",
    "    def __init__(self, seq_len, no_features, embedding_size):\n",
    "        super().__init__()\n",
    "        \n",
    "        self.seq_len = seq_len\n",
    "        self.no_features = no_features    # The number of expected features(= dimension size) in the input x\n",
    "        self.embedding_size = embedding_size   # the number of features in the embedded points of the inputs' number of features\n",
    "        self.hidden_size = (2 * embedding_size)  # The number of features in the hidden state h\n",
    "        self.LSTM1 = nn.LSTM(\n",
    "            input_size = no_features,\n",
    "            hidden_size = embedding_size,\n",
    "            num_layers = 1,\n",
    "            batch_first=True\n",
    "        )\n",
    "        \n",
    "    def forward(self, x):\n",
    "        # Inputs: input, (h_0, c_0). -> If (h_0, c_0) is not provided, both h_0 and c_0 default to zero.\n",
    "        x, (hidden_state, cell_state) = self.LSTM1(x)  \n",
    "        last_lstm_layer_hidden_state = hidden_state[-1,:,:]\n",
    "        return last_lstm_layer_hidden_state"
   ]
  },
  {
   "cell_type": "markdown",
   "metadata": {},
   "source": [
    "# Decoder class"
   ]
  },
  {
   "cell_type": "code",
   "execution_count": 9,
   "metadata": {},
   "outputs": [],
   "source": [
    "class Decoder(nn.Module):\n",
    "    def __init__(self, seq_len, no_features, output_size):\n",
    "        super().__init__()\n",
    "\n",
    "        self.seq_len = seq_len\n",
    "        self.no_features = no_features\n",
    "        self.hidden_size = (2 * no_features)\n",
    "        self.output_size = output_size\n",
    "        self.LSTM1 = nn.LSTM(\n",
    "            input_size = no_features,\n",
    "            hidden_size = self.hidden_size,\n",
    "            num_layers = 1,\n",
    "            batch_first = True\n",
    "        )\n",
    "\n",
    "        self.fc = nn.Linear(self.hidden_size, output_size)\n",
    "        \n",
    "    def forward(self, x):\n",
    "        x = x.unsqueeze(1).repeat(1,2000 ,1)\n",
    "        x, (hidden_state, cell_state) = self.LSTM1(x)\n",
    "        x = x.reshape((-1,2000, self.hidden_size))\n",
    "        out = self.fc(x)\n",
    "        return out"
   ]
  },
  {
   "cell_type": "markdown",
   "metadata": {},
   "source": [
    "# LTSM class"
   ]
  },
  {
   "cell_type": "code",
   "execution_count": 10,
   "metadata": {},
   "outputs": [],
   "source": [
    "# joining both encoder and decoder class using LSTM \n",
    "class LSTM_AE(nn.Module):\n",
    "    def __init__(self, seq_len, no_features, embedding_dim, learning_rate, every_epoch_print, epochs, patience, max_grad_norm):\n",
    "        super().__init__()\n",
    "        \n",
    "        self.seq_len = seq_len\n",
    "        self.no_features = no_features\n",
    "        self.embedding_dim = embedding_dim\n",
    "\n",
    "        self.encoder = Encoder(self.seq_len, self.no_features, self.embedding_dim)\n",
    "        self.decoder = Decoder(self.seq_len, self.embedding_dim, self.no_features)\n",
    "        \n",
    "        self.epochs = epochs\n",
    "        self.learning_rate = learning_rate\n",
    "        self.patience = patience\n",
    "        self.max_grad_norm = max_grad_norm\n",
    "        self.every_epoch_print = every_epoch_print\n",
    "    \n",
    "    def forward(self, x):\n",
    "        torch.manual_seed(0)\n",
    "        encoded = self.encoder(x)\n",
    "        decoded = self.decoder(encoded)\n",
    "        return encoded, decoded\n",
    "    \n",
    "   "
   ]
  },
  {
   "cell_type": "markdown",
   "metadata": {},
   "source": [
    "# Regression "
   ]
  },
  {
   "cell_type": "code",
   "execution_count": 11,
   "metadata": {},
   "outputs": [],
   "source": [
    "import torch\n",
    "from torch.autograd import Variable\n",
    "class linearRegression(torch.nn.Module):\n",
    "    def __init__(self, inputSize, outputSize):\n",
    "        super(linearRegression, self).__init__()\n",
    "        self.linear = torch.nn.Linear(inputSize, outputSize)\n",
    "\n",
    "    def forward(self, x):\n",
    "        out = self.linear(x)\n",
    "        return out"
   ]
  },
  {
   "cell_type": "code",
   "execution_count": 12,
   "metadata": {},
   "outputs": [],
   "source": [
    "inputDim = 1        # takes variable 'x' \n",
    "outputDim =1      # takes variable 'y'\n",
    "learningRate = 0.01 \n",
    "epochs = 100\n",
    "\n",
    "model = linearRegression(inputDim, outputDim)\n",
    "##### For GPU #######\n",
    "if torch.cuda.is_available():\n",
    "    model.cuda()\n"
   ]
  },
  {
   "cell_type": "code",
   "execution_count": 13,
   "metadata": {},
   "outputs": [],
   "source": [
    "#loss= Mean Squared Error\n",
    "#optimization= stochastic gradient descent\n",
    "criterion = torch.nn.MSELoss() \n",
    "optimizer = torch.optim.SGD(model.parameters(), lr=learningRate)"
   ]
  },
  {
   "cell_type": "code",
   "execution_count": 14,
   "metadata": {},
   "outputs": [
    {
     "name": "stdout",
     "output_type": "stream",
     "text": [
      "tensor(1.0560, grad_fn=<MseLossBackward>)\n",
      "epoch 0, loss 1.0559861660003662\n",
      "tensor(1.0248, grad_fn=<MseLossBackward>)\n",
      "epoch 1, loss 1.024811863899231\n",
      "tensor(0.9952, grad_fn=<MseLossBackward>)\n",
      "epoch 2, loss 0.99520343542099\n",
      "tensor(0.9671, grad_fn=<MseLossBackward>)\n",
      "epoch 3, loss 0.9670801758766174\n",
      "tensor(0.9404, grad_fn=<MseLossBackward>)\n",
      "epoch 4, loss 0.9403657913208008\n",
      "tensor(0.9150, grad_fn=<MseLossBackward>)\n",
      "epoch 5, loss 0.9149882793426514\n",
      "tensor(0.8909, grad_fn=<MseLossBackward>)\n",
      "epoch 6, loss 0.8908789157867432\n",
      "tensor(0.8680, grad_fn=<MseLossBackward>)\n",
      "epoch 7, loss 0.8679728507995605\n",
      "tensor(0.8462, grad_fn=<MseLossBackward>)\n",
      "epoch 8, loss 0.846208393573761\n",
      "tensor(0.8255, grad_fn=<MseLossBackward>)\n",
      "epoch 9, loss 0.8255276083946228\n",
      "tensor(0.8059, grad_fn=<MseLossBackward>)\n",
      "epoch 10, loss 0.8058748245239258\n",
      "tensor(0.7872, grad_fn=<MseLossBackward>)\n",
      "epoch 11, loss 0.7871980667114258\n",
      "tensor(0.7694, grad_fn=<MseLossBackward>)\n",
      "epoch 12, loss 0.769447386264801\n",
      "tensor(0.7526, grad_fn=<MseLossBackward>)\n",
      "epoch 13, loss 0.7525757551193237\n",
      "tensor(0.7365, grad_fn=<MseLossBackward>)\n",
      "epoch 14, loss 0.7365385890007019\n",
      "tensor(0.7213, grad_fn=<MseLossBackward>)\n",
      "epoch 15, loss 0.721293568611145\n",
      "tensor(0.7068, grad_fn=<MseLossBackward>)\n",
      "epoch 16, loss 0.7068004608154297\n",
      "tensor(0.6930, grad_fn=<MseLossBackward>)\n",
      "epoch 17, loss 0.693021297454834\n",
      "tensor(0.6799, grad_fn=<MseLossBackward>)\n",
      "epoch 18, loss 0.6799198985099792\n",
      "tensor(0.6675, grad_fn=<MseLossBackward>)\n",
      "epoch 19, loss 0.667462170124054\n",
      "tensor(0.6556, grad_fn=<MseLossBackward>)\n",
      "epoch 20, loss 0.6556157469749451\n",
      "tensor(0.6443, grad_fn=<MseLossBackward>)\n",
      "epoch 21, loss 0.6443496346473694\n",
      "tensor(0.6336, grad_fn=<MseLossBackward>)\n",
      "epoch 22, loss 0.6336345672607422\n",
      "tensor(0.6234, grad_fn=<MseLossBackward>)\n",
      "epoch 23, loss 0.6234431862831116\n",
      "tensor(0.6137, grad_fn=<MseLossBackward>)\n",
      "epoch 24, loss 0.6137489080429077\n",
      "tensor(0.6045, grad_fn=<MseLossBackward>)\n",
      "epoch 25, loss 0.604526937007904\n",
      "tensor(0.5958, grad_fn=<MseLossBackward>)\n",
      "epoch 26, loss 0.5957537889480591\n",
      "tensor(0.5874, grad_fn=<MseLossBackward>)\n",
      "epoch 27, loss 0.5874068140983582\n",
      "tensor(0.5795, grad_fn=<MseLossBackward>)\n",
      "epoch 28, loss 0.5794647932052612\n",
      "tensor(0.5719, grad_fn=<MseLossBackward>)\n",
      "epoch 29, loss 0.5719075798988342\n",
      "tensor(0.5647, grad_fn=<MseLossBackward>)\n",
      "epoch 30, loss 0.5647159218788147\n",
      "tensor(0.5579, grad_fn=<MseLossBackward>)\n",
      "epoch 31, loss 0.5578716993331909\n",
      "tensor(0.5514, grad_fn=<MseLossBackward>)\n",
      "epoch 32, loss 0.5513576865196228\n",
      "tensor(0.5452, grad_fn=<MseLossBackward>)\n",
      "epoch 33, loss 0.5451574325561523\n",
      "tensor(0.5393, grad_fn=<MseLossBackward>)\n",
      "epoch 34, loss 0.5392554402351379\n",
      "tensor(0.5336, grad_fn=<MseLossBackward>)\n",
      "epoch 35, loss 0.5336369872093201\n",
      "tensor(0.5283, grad_fn=<MseLossBackward>)\n",
      "epoch 36, loss 0.5282880067825317\n",
      "tensor(0.5232, grad_fn=<MseLossBackward>)\n",
      "epoch 37, loss 0.523195207118988\n",
      "tensor(0.5183, grad_fn=<MseLossBackward>)\n",
      "epoch 38, loss 0.5183459520339966\n",
      "tensor(0.5137, grad_fn=<MseLossBackward>)\n",
      "epoch 39, loss 0.5137282013893127\n",
      "tensor(0.5093, grad_fn=<MseLossBackward>)\n",
      "epoch 40, loss 0.5093308091163635\n",
      "tensor(0.5051, grad_fn=<MseLossBackward>)\n",
      "epoch 41, loss 0.5051427483558655\n",
      "tensor(0.5012, grad_fn=<MseLossBackward>)\n",
      "epoch 42, loss 0.501153826713562\n",
      "tensor(0.4974, grad_fn=<MseLossBackward>)\n",
      "epoch 43, loss 0.4973542094230652\n",
      "tensor(0.4937, grad_fn=<MseLossBackward>)\n",
      "epoch 44, loss 0.49373477697372437\n",
      "tensor(0.4903, grad_fn=<MseLossBackward>)\n",
      "epoch 45, loss 0.4902867078781128\n",
      "tensor(0.4870, grad_fn=<MseLossBackward>)\n",
      "epoch 46, loss 0.48700156807899475\n",
      "tensor(0.4839, grad_fn=<MseLossBackward>)\n",
      "epoch 47, loss 0.4838714897632599\n",
      "tensor(0.4809, grad_fn=<MseLossBackward>)\n",
      "epoch 48, loss 0.48088890314102173\n",
      "tensor(0.4780, grad_fn=<MseLossBackward>)\n",
      "epoch 49, loss 0.4780467748641968\n",
      "tensor(0.4753, grad_fn=<MseLossBackward>)\n",
      "epoch 50, loss 0.4753381311893463\n",
      "tensor(0.4728, grad_fn=<MseLossBackward>)\n",
      "epoch 51, loss 0.47275665402412415\n",
      "tensor(0.4703, grad_fn=<MseLossBackward>)\n",
      "epoch 52, loss 0.47029605507850647\n",
      "tensor(0.4680, grad_fn=<MseLossBackward>)\n",
      "epoch 53, loss 0.4679505228996277\n",
      "tensor(0.4657, grad_fn=<MseLossBackward>)\n",
      "epoch 54, loss 0.4657146632671356\n",
      "tensor(0.4636, grad_fn=<MseLossBackward>)\n",
      "epoch 55, loss 0.4635830521583557\n",
      "tensor(0.4616, grad_fn=<MseLossBackward>)\n",
      "epoch 56, loss 0.46155068278312683\n",
      "tensor(0.4596, grad_fn=<MseLossBackward>)\n",
      "epoch 57, loss 0.4596128761768341\n",
      "tensor(0.4578, grad_fn=<MseLossBackward>)\n",
      "epoch 58, loss 0.45776504278182983\n",
      "tensor(0.4560, grad_fn=<MseLossBackward>)\n",
      "epoch 59, loss 0.4560029208660126\n",
      "tensor(0.4543, grad_fn=<MseLossBackward>)\n",
      "epoch 60, loss 0.4543224573135376\n",
      "tensor(0.4527, grad_fn=<MseLossBackward>)\n",
      "epoch 61, loss 0.4527195394039154\n",
      "tensor(0.4512, grad_fn=<MseLossBackward>)\n",
      "epoch 62, loss 0.451190710067749\n",
      "tensor(0.4497, grad_fn=<MseLossBackward>)\n",
      "epoch 63, loss 0.44973236322402954\n",
      "tensor(0.4483, grad_fn=<MseLossBackward>)\n",
      "epoch 64, loss 0.44834110140800476\n",
      "tensor(0.4470, grad_fn=<MseLossBackward>)\n",
      "epoch 65, loss 0.44701385498046875\n",
      "tensor(0.4457, grad_fn=<MseLossBackward>)\n",
      "epoch 66, loss 0.4457474648952484\n",
      "tensor(0.4445, grad_fn=<MseLossBackward>)\n",
      "epoch 67, loss 0.4445390999317169\n",
      "tensor(0.4434, grad_fn=<MseLossBackward>)\n",
      "epoch 68, loss 0.44338613748550415\n",
      "tensor(0.4423, grad_fn=<MseLossBackward>)\n",
      "epoch 69, loss 0.44228577613830566\n",
      "tensor(0.4412, grad_fn=<MseLossBackward>)\n",
      "epoch 70, loss 0.44123563170433044\n",
      "tensor(0.4402, grad_fn=<MseLossBackward>)\n",
      "epoch 71, loss 0.44023340940475464\n",
      "tensor(0.4393, grad_fn=<MseLossBackward>)\n",
      "epoch 72, loss 0.43927669525146484\n",
      "tensor(0.4384, grad_fn=<MseLossBackward>)\n",
      "epoch 73, loss 0.4383634626865387\n",
      "tensor(0.4375, grad_fn=<MseLossBackward>)\n",
      "epoch 74, loss 0.43749168515205383\n",
      "tensor(0.4367, grad_fn=<MseLossBackward>)\n",
      "epoch 75, loss 0.4366593658924103\n",
      "tensor(0.4359, grad_fn=<MseLossBackward>)\n",
      "epoch 76, loss 0.43586480617523193\n",
      "tensor(0.4351, grad_fn=<MseLossBackward>)\n",
      "epoch 77, loss 0.4351060688495636\n",
      "tensor(0.4344, grad_fn=<MseLossBackward>)\n",
      "epoch 78, loss 0.4343816339969635\n",
      "tensor(0.4337, grad_fn=<MseLossBackward>)\n",
      "epoch 79, loss 0.433689683675766\n",
      "tensor(0.4330, grad_fn=<MseLossBackward>)\n",
      "epoch 80, loss 0.433028906583786\n",
      "tensor(0.4324, grad_fn=<MseLossBackward>)\n",
      "epoch 81, loss 0.4323979616165161\n",
      "tensor(0.4318, grad_fn=<MseLossBackward>)\n",
      "epoch 82, loss 0.4317951798439026\n",
      "tensor(0.4312, grad_fn=<MseLossBackward>)\n",
      "epoch 83, loss 0.4312194287776947\n",
      "tensor(0.4307, grad_fn=<MseLossBackward>)\n",
      "epoch 84, loss 0.4306694269180298\n",
      "tensor(0.4301, grad_fn=<MseLossBackward>)\n",
      "epoch 85, loss 0.4301440417766571\n",
      "tensor(0.4296, grad_fn=<MseLossBackward>)\n",
      "epoch 86, loss 0.42964208126068115\n",
      "tensor(0.4292, grad_fn=<MseLossBackward>)\n",
      "epoch 87, loss 0.42916250228881836\n",
      "tensor(0.4287, grad_fn=<MseLossBackward>)\n",
      "epoch 88, loss 0.4287042021751404\n",
      "tensor(0.4283, grad_fn=<MseLossBackward>)\n",
      "epoch 89, loss 0.428266316652298\n",
      "tensor(0.4278, grad_fn=<MseLossBackward>)\n",
      "epoch 90, loss 0.42784780263900757\n",
      "tensor(0.4274, grad_fn=<MseLossBackward>)\n",
      "epoch 91, loss 0.4274478554725647\n",
      "tensor(0.4271, grad_fn=<MseLossBackward>)\n",
      "epoch 92, loss 0.4270656108856201\n",
      "tensor(0.4267, grad_fn=<MseLossBackward>)\n",
      "epoch 93, loss 0.42670029401779175\n",
      "tensor(0.4264, grad_fn=<MseLossBackward>)\n",
      "epoch 94, loss 0.4263511300086975\n",
      "tensor(0.4260, grad_fn=<MseLossBackward>)\n",
      "epoch 95, loss 0.42601728439331055\n",
      "tensor(0.4257, grad_fn=<MseLossBackward>)\n",
      "epoch 96, loss 0.4256981909275055\n",
      "tensor(0.4254, grad_fn=<MseLossBackward>)\n",
      "epoch 97, loss 0.42539307475090027\n",
      "tensor(0.4251, grad_fn=<MseLossBackward>)\n",
      "epoch 98, loss 0.4251014292240143\n",
      "tensor(0.4248, grad_fn=<MseLossBackward>)\n",
      "epoch 99, loss 0.42482250928878784\n"
     ]
    }
   ],
   "source": [
    "for epoch in range(epochs):\n",
    "    # Converting inputs and labels to Variable\n",
    "    if torch.cuda.is_available():\n",
    "        inputs = Variable(torch.from_numpy(x_train).cuda())\n",
    "        labels = Variable(torch.from_numpy(y_train).cuda())\n",
    "    else:\n",
    "        inputs = Variable(torch.from_numpy(x_train))\n",
    "        labels = Variable(torch.from_numpy(y_train))\n",
    "\n",
    "    # Clear gradient buffers because we don't want any gradient from previous epoch to carry forward, dont want to cummulate gradients\n",
    "    optimizer.zero_grad()\n",
    "\n",
    "    # get output from the model, given the inputs\n",
    "    outputs = model(inputs)\n",
    "\n",
    "    # get loss for the predicted output\n",
    "    loss = criterion(outputs, labels)\n",
    "    print(loss)\n",
    "    # get gradients w.r.t to parameters\n",
    "    loss.backward()\n",
    "\n",
    "    # update parameters\n",
    "    optimizer.step()\n",
    "\n",
    "    print('epoch {}, loss {}'.format(epoch, loss.item()))"
   ]
  },
  {
   "cell_type": "markdown",
   "metadata": {},
   "source": [
    "# Graph"
   ]
  },
  {
   "cell_type": "code",
   "execution_count": 15,
   "metadata": {},
   "outputs": [
    {
     "name": "stdout",
     "output_type": "stream",
     "text": [
      "[[0.55273885]\n",
      " [0.5437942 ]\n",
      " [0.5366035 ]\n",
      " ...\n",
      " [0.33025062]\n",
      " [0.3213512 ]\n",
      " [0.31686243]]\n"
     ]
    },
    {
     "data": {
      "image/png": "[encoded data removed]",
      "text/plain": [
       "<Figure size 432x288 with 1 Axes>"
      ]
     },
     "metadata": {
      "needs_background": "light"
     },
     "output_type": "display_data"
    }
   ],
   "source": [
    "with torch.no_grad(): # we don't need gradients in the testing phase\n",
    "    if torch.cuda.is_available():\n",
    "        predicted = model(Variable(torch.from_numpy(x_train).cuda())).cpu().data.numpy()\n",
    "    else:\n",
    "        predicted = model(Variable(torch.from_numpy(x_train))).data.numpy()\n",
    "    print(predicted)\n",
    "\n",
    "plt.clf()\n",
    "plt.plot(x_train, y_train, 'go', label='True data', alpha=0.5)\n",
    "plt.plot(x_train, predicted, '--', label='Predictions', alpha=0.5)\n",
    "plt.legend(loc='best')\n",
    "plt.show()"
   ]
  },
  {
   "cell_type": "code",
   "execution_count": null,
   "metadata": {},
   "outputs": [],
   "source": []
  }
 ],
 "metadata": {
  "colab": {
   "collapsed_sections": [],
   "name": "CW_v3_with_answers.ipynb",
   "provenance": []
  },
  "kernelspec": {
   "display_name": "Python 3",
   "language": "python",
   "name": "python3"
  },
  "language_info": {
   "codemirror_mode": {
    "name": "ipython",
    "version": 3
   },
   "file_extension": ".py",
   "mimetype": "text/x-python",
   "name": "python",
   "nbconvert_exporter": "python",
   "pygments_lexer": "ipython3",
   "version": "3.8.5"
  }
 },
 "nbformat": 4,
 "nbformat_minor": 1
}
